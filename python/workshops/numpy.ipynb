{
 "cells": [
  {
   "cell_type": "markdown",
   "metadata": {},
   "source": [
    "# NumPy \n",
    "\n",
    "NumPy (stands for Numerical Python) is a general packages used for processing arrays. It provides a high performance, multidimensional array object and tools to work with these arrays and is popular for scientific computing in Python."
   ]
  },
  {
   "cell_type": "markdown",
   "metadata": {},
   "source": [
    "Importing NumPy library for use in our Python code."
   ]
  },
  {
   "cell_type": "code",
   "execution_count": 2,
   "metadata": {},
   "outputs": [],
   "source": [
    "import numpy as np"
   ]
  },
  {
   "cell_type": "markdown",
   "metadata": {},
   "source": [
    "## NumPy Dimensions"
   ]
  },
  {
   "cell_type": "code",
   "execution_count": null,
   "metadata": {},
   "outputs": [],
   "source": [
    "# Example of 0-D Array\n",
    "dim0_arr = np.array(42)\n",
    "print('Dimension of dim0_arr:',dim0_arr.ndim)\n",
    "\n",
    "#Example of 1-D Array\n",
    "dim1_arr = np.array([1, 2, 3, 4, 5])\n",
    "print('Dimension of dim1_arr:',dim1_arr.ndim)\n",
    "\n",
    "#Example of 2-D Array\n",
    "dim2_arr = np.array([\n",
    "\t\t [1, 2, 3],\n",
    "\t\t [4, 5, 6]\n",
    "])\n",
    "print('Dimension of dim2_arr:',dim2_arr.ndim)\n",
    "\n",
    "#Example of 3-D Array 2 by 2 by 3\n",
    "dim3_arr = np.array([\n",
    "\t\t[[1, 2, 3], [4, 5, 6]], \n",
    "\t\t[[1, 2, 3], [4, 5, 6]]\n",
    "])\n",
    "print('Dimension of dim3_arr:',dim3_arr.ndim)\n",
    "#Example of creating a 5-D Array\n",
    "dim5_arr = np.array([1, 2, 3, 4], ndmin=5)\n",
    "print('Dimension of dim5_arr:',dim5_arr.ndim)\n",
    "\n",
    "print('dim5_arr:',dim5_arr) # [[[[[1 2 3 4]]]]]\n",
    "\n"
   ]
  },
  {
   "cell_type": "markdown",
   "metadata": {},
   "source": [
    "## Creating NumPy Array"
   ]
  },
  {
   "cell_type": "code",
   "execution_count": null,
   "metadata": {},
   "outputs": [],
   "source": [
    "# creating a python list\n",
    "x = [1, 2, 3]\n",
    "\n",
    "# transforming into NumPy array\n",
    "x = np.array(x)    \n",
    "print(x)         "
   ]
  },
  {
   "cell_type": "code",
   "execution_count": null,
   "metadata": {},
   "outputs": [],
   "source": [
    "# creating a NumPy array\n",
    "x = np.array([\n",
    "    [1, 2, 3],\n",
    "    [4, 5, 6]\n",
    "])\n",
    "# prints <class 'numpy.ndarray'>\n",
    "print(type(x))\n"
   ]
  },
  {
   "cell_type": "markdown",
   "metadata": {},
   "source": [
    "### Creating array with all zeros"
   ]
  },
  {
   "cell_type": "code",
   "execution_count": null,
   "metadata": {},
   "outputs": [],
   "source": [
    "x = np.zeros((2, 2))\n",
    "print(x)"
   ]
  },
  {
   "cell_type": "markdown",
   "metadata": {},
   "source": [
    "### Create 2x2 array with a certain value"
   ]
  },
  {
   "cell_type": "code",
   "execution_count": null,
   "metadata": {},
   "outputs": [],
   "source": [
    "\n",
    "z = np.full((2, 2), 7) # Return a 2x2 array filled with the value 7\n",
    "print(z)\n",
    "\n",
    "zero = np.full((2, 2), 0) # Return a 2x2 array filled with the value 7\n",
    "print(zero)\n",
    "\n",
    "# create an array of float data type\n",
    "float_arr = np.array([1, 2, 3, 4], dtype='f')\n",
    "print(float_arr)"
   ]
  },
  {
   "cell_type": "markdown",
   "metadata": {},
   "source": [
    "## Creating NumPy Array from Tuple"
   ]
  },
  {
   "cell_type": "code",
   "execution_count": null,
   "metadata": {},
   "outputs": [],
   "source": [
    "import numpy as np\n",
    "\n",
    "# creating a python tuple\n",
    "x = (1, 2, 3)\n",
    "\n",
    "# transforming into numpy array\n",
    "x = np.array(x)    \n",
    "\n",
    "print(x)# [1 2 3]"
   ]
  },
  {
   "cell_type": "markdown",
   "metadata": {},
   "source": [
    "# Shapes"
   ]
  },
  {
   "cell_type": "markdown",
   "metadata": {},
   "source": [
    "## 2 Dimensional Shapes"
   ]
  },
  {
   "cell_type": "code",
   "execution_count": null,
   "metadata": {},
   "outputs": [],
   "source": [
    "dim2_arr = np.array([\n",
    "\t\t [1, 2, 3],\n",
    "\t\t [4, 5, 6]\n",
    "]) \n",
    "print(dim2_arr.shape)# (2,3)"
   ]
  },
  {
   "cell_type": "markdown",
   "metadata": {},
   "source": [
    "## 3 dimensional shapes"
   ]
  },
  {
   "cell_type": "code",
   "execution_count": null,
   "metadata": {},
   "outputs": [],
   "source": [
    "dim3_arr = np.array([\n",
    "\t\t[[1, 2, 3], [4, 5, 6]], \n",
    "\t\t[[1, 2, 3], [4, 5, 6]]\n",
    "])\n",
    "print(dim3_arr.shape) # (2,2,3)\n"
   ]
  },
  {
   "cell_type": "markdown",
   "metadata": {},
   "source": [
    "# Reshaping"
   ]
  },
  {
   "cell_type": "code",
   "execution_count": null,
   "metadata": {},
   "outputs": [],
   "source": [
    "# arr is an ONE- dimensional ‘numpy’ array\n",
    "arr = np.array([1, 2, 3, 4, 5, 6, 7, 8, 9, 10, 11, 12])\n",
    "#Reshape\n",
    "newarr = arr.reshape(4, 3)\n",
    "print(newarr) "
   ]
  },
  {
   "cell_type": "code",
   "execution_count": null,
   "metadata": {},
   "outputs": [],
   "source": [
    "#Reshape from 1 D to 3 D\n",
    "arr = np.array([1, 2, 3, 4, 5, 6, 7, 8, 9, 10, 11, 12])\n",
    "newarr = arr.reshape(2, 3, 2)\n",
    "print(newarr)\n",
    "print('Newarr shapes: ',newarr.shape)"
   ]
  },
  {
   "cell_type": "markdown",
   "metadata": {},
   "source": [
    "# Iteration"
   ]
  },
  {
   "cell_type": "code",
   "execution_count": null,
   "metadata": {},
   "outputs": [],
   "source": [
    "# Iterate through an ONE- dimensional ‘numpy’ array\n",
    "arr = np.array([1, 2, 3, 4, 5, 6])\n",
    "for x in arr:\n",
    "  print(x)\n",
    "\n",
    "# Iterate through a TWO - dimensional NumPy array\n",
    "arr = np.array([[1, 2, 3], [4, 5, 6]])\n",
    "for x in arr:\n",
    "  print(x)\n",
    "  \n",
    "#Printing the individual value in the matrix\n",
    "for x in arr:\n",
    "  for y in x:\n",
    "    print(y)\n"
   ]
  },
  {
   "cell_type": "markdown",
   "metadata": {},
   "source": [
    "## Indexing"
   ]
  },
  {
   "cell_type": "code",
   "execution_count": null,
   "metadata": {},
   "outputs": [],
   "source": [
    "# Get the first element from the array\n",
    "arr = np.array([1, 2, 3, 4])\n",
    "print(arr[0]) # 1\n",
    "# The sum of third and fourth element from the array\n",
    "arr = np.array([1, 2, 3, 4])\n",
    "print(arr[2]+arr[3]) # 7"
   ]
  },
  {
   "cell_type": "markdown",
   "metadata": {},
   "source": [
    "## Boolean Indexing"
   ]
  },
  {
   "cell_type": "code",
   "execution_count": null,
   "metadata": {},
   "outputs": [],
   "source": [
    "mat = np.array([\n",
    "    [1, 2, 3],\n",
    "    [4, 5, 6],\n",
    "    [7, 8, 9],\n",
    "])\n",
    "\n",
    "# set criteria for even-numbers\n",
    "bool_mat = (mat % 2 == 0)\n",
    "print(bool_mat)"
   ]
  },
  {
   "cell_type": "markdown",
   "metadata": {},
   "source": [
    "# Slicing"
   ]
  },
  {
   "cell_type": "code",
   "execution_count": null,
   "metadata": {},
   "outputs": [],
   "source": [
    "arr = np.array([1, 2, 3, 4, 5, 6, 7])\n",
    "\n",
    "# Slicing elements from 2nd  (index 1) to 5th (index 4) from the following array\n",
    "print(arr[1:5]) # [2 3 4 5]\n",
    "\n",
    "# Slicing elements from 5th element to the end of the array\n",
    "print(arr[4:]) # [5 6 7]\n",
    "\n",
    "# Slicing elements from the beginning to 5th element (index 4 and not included)\n",
    "print(arr[:4]) # [1 2 3 4]\n",
    "\n",
    "#Slicing elements from beginning with step=2\n",
    "print(arr[::2]) # [1 3 5 7]"
   ]
  },
  {
   "cell_type": "markdown",
   "metadata": {},
   "source": [
    "## Slicing multi-dimensions"
   ]
  },
  {
   "cell_type": "code",
   "execution_count": null,
   "metadata": {},
   "outputs": [],
   "source": [
    "# creates a numpy array\n",
    "mat = np.array([\n",
    "    [1, 2, 3],\n",
    "    [4, 5, 6],\n",
    "    [7, 8, 9]\n",
    "])\n",
    "# extracts data\n",
    "print(mat[0:2,1:2]) \n",
    "print(mat[:-1,-1])\n",
    "'''\n",
    "mat[:-1] will extract the all rows except the last one and the partial array is:  [[1,2,3],[4,5,6]]\n",
    "mat[:-1:-1] will extract the last column values of the above partial array which is [3,6]\n",
    "'''\n",
    "print(mat[1:,1:])"
   ]
  },
  {
   "cell_type": "markdown",
   "metadata": {},
   "source": [
    "# Element-Wise Scalar Operations"
   ]
  },
  {
   "cell_type": "code",
   "execution_count": null,
   "metadata": {},
   "outputs": [],
   "source": [
    "# creating a numpy array\n",
    "a = np.array([\n",
    "    [1, 0],\n",
    "    [1, 2]\n",
    "])\n",
    "\n",
    "# add 2 to each element\n",
    "a_plus2 = a + 2\n",
    "\n",
    "# prints [[3,2],[3,4]]\n",
    "print(a_plus2)\n",
    "\n",
    "# multiple 2 to each element\n",
    "a_times2 = a * 2\n",
    "\n",
    "# prints[[2,0],[2,4]]\n",
    "print(a_times2)"
   ]
  },
  {
   "cell_type": "markdown",
   "metadata": {},
   "source": [
    "# Element-Wise Matrix Operations"
   ]
  },
  {
   "cell_type": "code",
   "execution_count": null,
   "metadata": {},
   "outputs": [],
   "source": [
    "# creating a numpy array\n",
    "a = np.array([\n",
    "    [1, 0],\n",
    "    [1, 2]\n",
    "])\n",
    "\n",
    "# creating a second numpy array\n",
    "b = np.array([\n",
    "    [0, 2],\n",
    "    [1, 1]\n",
    "])\n",
    "\n",
    "# element-wise addition\n",
    "ab_plus = a + b\n",
    "\n",
    "# prints [[1,2],[2,3]]\n",
    "print(ab_plus)\n",
    "\n",
    "# element-wise multiplication\n",
    "ab_mul = a * b\n",
    "\n",
    "# prints [[0,0],[1,2]]\n",
    "print(ab_mul)"
   ]
  },
  {
   "cell_type": "markdown",
   "metadata": {},
   "source": [
    "# Dot Product"
   ]
  },
  {
   "cell_type": "code",
   "execution_count": null,
   "metadata": {},
   "outputs": [],
   "source": [
    "# create a 1x2 matrix\n",
    "# 1D - 1 row by 2 cols\n",
    "a = np.array([1, 2])\n",
    "\n",
    "# create a 2x1 matrix\n",
    "# 2D - 2 rows by 1 col\n",
    "b = np.array([[3],[4]])\n",
    "\n",
    "# prints dimension of matrix\n",
    "print(b.ndim)   # prints 2\n",
    "\n",
    "# prints shape of matrix\n",
    "print(b.shape)  # prints (2, 1)\n",
    "\n",
    "# performs matrix-multiplication\n",
    "a_mul_b = np.dot(a, b)\n",
    "\n",
    "# prints [11]\n",
    "print(a_mul_b)\n",
    "\n",
    "# a_mul_b is a 1D matrix\n",
    "print(a_mul_b.ndim)     # prints 1\n",
    "\n",
    "# a_mul_b has a single column\n",
    "print(a_mul_b.shape)    # prints (1,)"
   ]
  },
  {
   "cell_type": "markdown",
   "metadata": {},
   "source": [
    "# Stacking Matrices"
   ]
  },
  {
   "cell_type": "code",
   "execution_count": null,
   "metadata": {},
   "outputs": [],
   "source": [
    "# creating individual matrices\n",
    "mat1 = np.array([1, 2, 3])\n",
    "mat2 = np.array([4, 5, 6])\n",
    "mat3 = np.array([7, 8, 9])\n",
    "\n",
    "# concat along axis=0 (row-direction)\n",
    "mat_axis0 = np.concatenate(([mat1], [mat2], [mat3]), axis=0)\n",
    "\n",
    "# prints [[1,2,3],[4,5,6],[7,8,9]]\n",
    "print(mat_axis0) \n",
    "\n",
    "# concat along axis=1 (column-direction)\n",
    "mat_axis1 = np.concatenate(([mat1], [mat2], [mat3]), axis=1)\n",
    "\n",
    "# prints [[1,2,3,4,5,6,7,8,9]]\n",
    "print(mat_axis1)"
   ]
  },
  {
   "cell_type": "markdown",
   "metadata": {},
   "source": [
    "# Splitting"
   ]
  },
  {
   "cell_type": "code",
   "execution_count": null,
   "metadata": {},
   "outputs": [],
   "source": [
    "import numpy as np\n",
    "\n",
    "arr = np.array([1, 2, 3, 4, 5, 6])\n",
    "\n",
    "newarr = np.array_split(arr, 3)\n",
    "\n",
    "print(newarr) # [array([1, 2]), array([3, 4]), array([5, 6])]\n"
   ]
  },
  {
   "cell_type": "markdown",
   "metadata": {},
   "source": [
    "# Searching"
   ]
  },
  {
   "cell_type": "code",
   "execution_count": 15,
   "metadata": {},
   "outputs": [
    {
     "name": "stdout",
     "output_type": "stream",
     "text": [
      "(array([3, 5, 6]),)\n",
      "[3 5 6]\n",
      "[4 4 4]\n",
      "[1 2 3 5]\n"
     ]
    }
   ],
   "source": [
    "arr = np.array([1, 2, 3, 4, 5, 4, 4])\n",
    "\n",
    "x = np.where(arr == 4)\n",
    "\n",
    "print(x)\n",
    "\n",
    "print(x[0])\n",
    "\n",
    "search_arr = arr[x[0]]\n",
    "print(search_arr)\n",
    "\n",
    "# Filter away all the 4s in the array\n",
    "y = np.where(arr != 4)\n",
    "filter_arr = arr[y[0]]\n",
    "print(filter_arr) "
   ]
  },
  {
   "cell_type": "markdown",
   "metadata": {},
   "source": [
    "## Sorting"
   ]
  },
  {
   "cell_type": "code",
   "execution_count": 12,
   "metadata": {},
   "outputs": [
    {
     "name": "stdout",
     "output_type": "stream",
     "text": [
      "[1 2 3 4 4 4 5]\n",
      "[5 4 4 4 3 2 1]\n",
      "[5 4 4 4 3 2 1]\n"
     ]
    }
   ],
   "source": [
    "#Sort the array\n",
    "#Sort the array\n",
    "print(np.sort(arr)) # [1 2 3 4 4 4 5]\n",
    "\n",
    "#Reverse sorting\n",
    "print(np.sort(arr)[::-1])#making use of array slicing\n",
    "\n"
   ]
  },
  {
   "cell_type": "markdown",
   "metadata": {},
   "source": [
    "# Random"
   ]
  },
  {
   "cell_type": "code",
   "execution_count": null,
   "metadata": {},
   "outputs": [],
   "source": [
    "from numpy import random\n",
    "\n",
    "# Generate a random integer from 0 to 100\n",
    "x = random.randint(100)\n",
    "print(x)\n",
    "# Generate a 1-D array containing 5 random integers from 0 to 100\n",
    "x=random.randint(100, size=(5))\n",
    "print(x)\n",
    "# Generate a 2-D array with 3 rows, each row containing 5 random integers from 0 to 100\n",
    "x = random.randint(100, size=(3, 5))\n",
    "print(x)\n",
    "# Generate a random float\n",
    "x = random.rand()\n",
    "print(x)\n",
    "# Generate an array containing 5 random float\n",
    "x = random.rand(5)\n",
    "print(x)\n",
    "# Generate a random integer from an array of possible integers [3,5,7,9]\n",
    "x = random.choice([3, 5, 7, 9])\n",
    "print(x)\n",
    "# Generate a random integer array of 4 elements from an array of possible integers [3,5,7,9]\n",
    "x = random.choice([3, 5, 7, 9],size=(4))\n",
    "print(x)\n",
    "# Generate a 2-D array that consists of the values in the array parameter (3, 5, 7, and 9)\n",
    "x = random.choice([3, 5, 7, 9],size=(3,5))\n",
    "print(x)"
   ]
  },
  {
   "cell_type": "markdown",
   "metadata": {},
   "source": [
    "# Others "
   ]
  },
  {
   "cell_type": "code",
   "execution_count": 13,
   "metadata": {},
   "outputs": [
    {
     "name": "stdout",
     "output_type": "stream",
     "text": [
      "[ 3  7 12]\n",
      "12\n",
      "[ 9 18 27 36]\n"
     ]
    }
   ],
   "source": [
    "import numpy as np\n",
    "# Culmulative sum\n",
    "arr = np.array([3,4,5])\n",
    "print(np.cumsum(arr))\n",
    "print(np.cumsum(arr)[-1])\n",
    "\n",
    "# Define the arrays\n",
    "arr1 = np.array([10, 20, 30, 40])\n",
    "arr2 = np.array([1, 2, 3, 4])\n",
    "\n",
    "# Perform element-wise subtraction\n",
    "result = np.subtract(arr1, arr2)\n",
    "\n",
    "print(result)"
   ]
  }
 ],
 "metadata": {
  "kernelspec": {
   "display_name": "mlaenv",
   "language": "python",
   "name": "python3"
  },
  "language_info": {
   "codemirror_mode": {
    "name": "ipython",
    "version": 3
   },
   "file_extension": ".py",
   "mimetype": "text/x-python",
   "name": "python",
   "nbconvert_exporter": "python",
   "pygments_lexer": "ipython3",
   "version": "3.9.19"
  }
 },
 "nbformat": 4,
 "nbformat_minor": 2
}
