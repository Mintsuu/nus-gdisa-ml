{
 "cells": [
  {
   "cell_type": "markdown",
   "metadata": {},
   "source": [
    "## Logistic Regression Workshop"
   ]
  },
  {
   "cell_type": "raw",
   "metadata": {},
   "source": [
    "1) Load iris datasets from iris-data-clean.csv\n",
    "   Replace the values in the columns 'Class' as follows:\n",
    "     \"Setosa\" = 0\n",
    "     \"Virginica\" = 1\n",
    "     \"Versicolor\" = 2\n",
    "2) Using Logistic Regression, classify the outcome (Column : 'Class') based on the labels (Columns :'sepal length /cm', 'sepal width /cm', 'petal length /cm', 'petal width /cm')\n",
    "    a) Provide some values to predict the outcome\n",
    "    b) Validate the model - print the confusion matrix and the accuracy score\n",
    "3) Redo the above steps with any two **features\n",
    "    a) Compare the accuracy score with the model built in the above with four features"
   ]
  }
 ],
 "metadata": {
  "kernelspec": {
   "display_name": "Python 3",
   "language": "python",
   "name": "python3"
  },
  "language_info": {
   "codemirror_mode": {
    "name": "ipython",
    "version": 3
   },
   "file_extension": ".py",
   "mimetype": "text/x-python",
   "name": "python",
   "nbconvert_exporter": "python",
   "pygments_lexer": "ipython3",
   "version": "3.10.9 (tags/v3.10.9:1dd9be6, Dec  6 2022, 20:01:21) [MSC v.1934 64 bit (AMD64)]"
  },
  "vscode": {
   "interpreter": {
    "hash": "6ef71a919be11176672e9c057e3d871270d6131e4f1b030406a09c20cc5d37a8"
   }
  }
 },
 "nbformat": 4,
 "nbformat_minor": 2
}
