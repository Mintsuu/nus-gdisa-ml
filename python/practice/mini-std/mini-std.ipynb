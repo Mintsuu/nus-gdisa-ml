{
 "cells": [
  {
   "cell_type": "markdown",
   "metadata": {},
   "source": [
    "# Mini Standardization Exercise"
   ]
  },
  {
   "cell_type": "markdown",
   "metadata": {},
   "source": [
    "Import necessary libraries"
   ]
  },
  {
   "cell_type": "code",
   "execution_count": 48,
   "metadata": {},
   "outputs": [],
   "source": [
    "import numpy as np\n",
    "import pandas as pd"
   ]
  },
  {
   "cell_type": "markdown",
   "metadata": {},
   "source": [
    "Read files and check dataset"
   ]
  },
  {
   "cell_type": "code",
   "execution_count": 49,
   "metadata": {},
   "outputs": [
    {
     "data": {
      "text/html": [
       "<div>\n",
       "<style scoped>\n",
       "    .dataframe tbody tr th:only-of-type {\n",
       "        vertical-align: middle;\n",
       "    }\n",
       "\n",
       "    .dataframe tbody tr th {\n",
       "        vertical-align: top;\n",
       "    }\n",
       "\n",
       "    .dataframe thead th {\n",
       "        text-align: right;\n",
       "    }\n",
       "</style>\n",
       "<table border=\"1\" class=\"dataframe\">\n",
       "  <thead>\n",
       "    <tr style=\"text-align: right;\">\n",
       "      <th></th>\n",
       "      <th>X</th>\n",
       "      <th>Y</th>\n",
       "      <th>Z</th>\n",
       "    </tr>\n",
       "  </thead>\n",
       "  <tbody>\n",
       "    <tr>\n",
       "      <th>0</th>\n",
       "      <td>1.3</td>\n",
       "      <td>1.0</td>\n",
       "      <td>1.2</td>\n",
       "    </tr>\n",
       "    <tr>\n",
       "      <th>1</th>\n",
       "      <td>3.5</td>\n",
       "      <td>3.4</td>\n",
       "      <td>3.3</td>\n",
       "    </tr>\n",
       "    <tr>\n",
       "      <th>2</th>\n",
       "      <td>3.2</td>\n",
       "      <td>2.9</td>\n",
       "      <td>3.1</td>\n",
       "    </tr>\n",
       "    <tr>\n",
       "      <th>3</th>\n",
       "      <td>1.1</td>\n",
       "      <td>0.9</td>\n",
       "      <td>1.1</td>\n",
       "    </tr>\n",
       "    <tr>\n",
       "      <th>4</th>\n",
       "      <td>1.4</td>\n",
       "      <td>1.2</td>\n",
       "      <td>1.1</td>\n",
       "    </tr>\n",
       "  </tbody>\n",
       "</table>\n",
       "</div>"
      ],
      "text/plain": [
       "     X    Y    Z\n",
       "0  1.3  1.0  1.2\n",
       "1  3.5  3.4  3.3\n",
       "2  3.2  2.9  3.1\n",
       "3  1.1  0.9  1.1\n",
       "4  1.4  1.2  1.1"
      ]
     },
     "execution_count": 49,
     "metadata": {},
     "output_type": "execute_result"
    }
   ],
   "source": [
    "data = pd.read_csv('mini_data.csv')\n",
    "data.head()"
   ]
  },
  {
   "cell_type": "markdown",
   "metadata": {},
   "source": [
    "Loop through columns and append standardized form using the standardisation formula to every value"
   ]
  },
  {
   "cell_type": "code",
   "execution_count": null,
   "metadata": {},
   "outputs": [
    {
     "data": {
      "text/html": [
       "<div>\n",
       "<style scoped>\n",
       "    .dataframe tbody tr th:only-of-type {\n",
       "        vertical-align: middle;\n",
       "    }\n",
       "\n",
       "    .dataframe tbody tr th {\n",
       "        vertical-align: top;\n",
       "    }\n",
       "\n",
       "    .dataframe thead th {\n",
       "        text-align: right;\n",
       "    }\n",
       "</style>\n",
       "<table border=\"1\" class=\"dataframe\">\n",
       "  <thead>\n",
       "    <tr style=\"text-align: right;\">\n",
       "      <th></th>\n",
       "      <th>X</th>\n",
       "      <th>Y</th>\n",
       "      <th>Z</th>\n",
       "    </tr>\n",
       "  </thead>\n",
       "  <tbody>\n",
       "    <tr>\n",
       "      <th>0</th>\n",
       "      <td>-0.884515</td>\n",
       "      <td>-0.961396</td>\n",
       "      <td>-0.868671</td>\n",
       "    </tr>\n",
       "    <tr>\n",
       "      <th>1</th>\n",
       "      <td>0.837549</td>\n",
       "      <td>0.884485</td>\n",
       "      <td>0.690482</td>\n",
       "    </tr>\n",
       "    <tr>\n",
       "      <th>2</th>\n",
       "      <td>0.602722</td>\n",
       "      <td>0.499926</td>\n",
       "      <td>0.541991</td>\n",
       "    </tr>\n",
       "    <tr>\n",
       "      <th>3</th>\n",
       "      <td>-1.041066</td>\n",
       "      <td>-1.038308</td>\n",
       "      <td>-0.942916</td>\n",
       "    </tr>\n",
       "    <tr>\n",
       "      <th>4</th>\n",
       "      <td>-0.806239</td>\n",
       "      <td>-0.807573</td>\n",
       "      <td>-0.942916</td>\n",
       "    </tr>\n",
       "    <tr>\n",
       "      <th>5</th>\n",
       "      <td>-1.197617</td>\n",
       "      <td>-1.11522</td>\n",
       "      <td>-1.091407</td>\n",
       "    </tr>\n",
       "    <tr>\n",
       "      <th>6</th>\n",
       "      <td>1.385479</td>\n",
       "      <td>1.269043</td>\n",
       "      <td>1.284445</td>\n",
       "    </tr>\n",
       "    <tr>\n",
       "      <th>7</th>\n",
       "      <td>1.072376</td>\n",
       "      <td>1.269043</td>\n",
       "      <td>1.35869</td>\n",
       "    </tr>\n",
       "    <tr>\n",
       "      <th>8</th>\n",
       "      <td>-0.96279</td>\n",
       "      <td>-0.961396</td>\n",
       "      <td>-1.017162</td>\n",
       "    </tr>\n",
       "    <tr>\n",
       "      <th>9</th>\n",
       "      <td>0.994101</td>\n",
       "      <td>0.961396</td>\n",
       "      <td>0.987463</td>\n",
       "    </tr>\n",
       "  </tbody>\n",
       "</table>\n",
       "</div>"
      ],
      "text/plain": [
       "          X         Y         Z\n",
       "0 -0.884515 -0.961396 -0.868671\n",
       "1  0.837549  0.884485  0.690482\n",
       "2  0.602722  0.499926  0.541991\n",
       "3 -1.041066 -1.038308 -0.942916\n",
       "4 -0.806239 -0.807573 -0.942916\n",
       "5 -1.197617  -1.11522 -1.091407\n",
       "6  1.385479  1.269043  1.284445\n",
       "7  1.072376  1.269043   1.35869\n",
       "8  -0.96279 -0.961396 -1.017162\n",
       "9  0.994101  0.961396  0.987463"
      ]
     },
     "execution_count": 50,
     "metadata": {},
     "output_type": "execute_result"
    }
   ],
   "source": [
    "columns = data.columns\n",
    "standardized_data = pd.DataFrame(columns=columns)\n",
    "\n",
    "for column in columns:\n",
    "    mean = np.mean(data[column])\n",
    "    std = np.std(data[column])\n",
    "    # print(\"Mean for {}: {} \\n\".format(column, mean))\n",
    "    # print(\"Std for {}: {} \\n\".format(column, std))\n",
    "\n",
    "    for x in range(len(data)):\n",
    "       standardized_data.loc[x,column] = (data.loc[x, column] - mean)/std\n",
    "        \n",
    "standardized_data"
   ]
  },
  {
   "cell_type": "markdown",
   "metadata": {},
   "source": [
    "Proof for zero-mean and unit-variance"
   ]
  },
  {
   "cell_type": "code",
   "execution_count": null,
   "metadata": {},
   "outputs": [
    {
     "name": "stdout",
     "output_type": "stream",
     "text": [
      "Column X sum: -7.771561172376096e-16 \n",
      "\n",
      "Column X std: 0.9999999999999999 \n",
      "\n",
      "Column Y sum: -4.440892098500626e-16 \n",
      "\n",
      "Column Y std: 1.0 \n",
      "\n",
      "Column Z sum: -5.551115123125783e-16 \n",
      "\n",
      "Column Z std: 1.0 \n",
      "\n"
     ]
    }
   ],
   "source": [
    "for column in columns:\n",
    "    # Proof that standardized dataset now has a mean of 0\n",
    "    columnSum = np.sum(standardized_data[column])\n",
    "    print(\"Column {} sum: {} \\n\".format(column, columnSum))\n",
    "    \n",
    "    # Proof that dataset now has a standard deviation of 1\n",
    "    columnStd = np.std(standardized_data[column])\n",
    "    print(\"Column {} std: {} \\n\".format(column, columnStd))"
   ]
  }
 ],
 "metadata": {
  "kernelspec": {
   "display_name": "mlaenv",
   "language": "python",
   "name": "python3"
  },
  "language_info": {
   "codemirror_mode": {
    "name": "ipython",
    "version": 3
   },
   "file_extension": ".py",
   "mimetype": "text/x-python",
   "name": "python",
   "nbconvert_exporter": "python",
   "pygments_lexer": "ipython3",
   "version": "3.9.18"
  }
 },
 "nbformat": 4,
 "nbformat_minor": 2
}
